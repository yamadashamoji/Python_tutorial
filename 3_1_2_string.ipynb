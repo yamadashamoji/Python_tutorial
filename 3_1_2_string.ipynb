{
  "nbformat": 4,
  "nbformat_minor": 0,
  "metadata": {
    "colab": {
      "provenance": [],
      "authorship_tag": "ABX9TyMGZgF+8a6u7f2euu3skV8Z",
      "include_colab_link": true
    },
    "kernelspec": {
      "name": "python3",
      "display_name": "Python 3"
    },
    "language_info": {
      "name": "python"
    }
  },
  "cells": [
    {
      "cell_type": "markdown",
      "metadata": {
        "id": "view-in-github",
        "colab_type": "text"
      },
      "source": [
        "<a href=\"https://colab.research.google.com/github/yamadashamoji/Python_tutorial/blob/main/3_1_2_string.ipynb\" target=\"_parent\"><img src=\"https://colab.research.google.com/assets/colab-badge.svg\" alt=\"Open In Colab\"/></a>"
      ]
    },
    {
      "cell_type": "code",
      "execution_count": null,
      "metadata": {
        "id": "2WWvY_ESSYVJ"
      },
      "outputs": [],
      "source": [
        "#@title 文字列"
      ]
    },
    {
      "cell_type": "code",
      "source": [
        "print('spam eggs')\n",
        "print('doesn\\'t')\n",
        "print(\"doesn't\")\n",
        "print('\"Yes,\" he said.')\n",
        "print(\"\\\"Yes,\\\" he said.\")\n",
        "print('\"Isn\\'t,\" she said.')"
      ],
      "metadata": {
        "colab": {
          "base_uri": "https://localhost:8080/"
        },
        "id": "BDgULa1FTFS9",
        "outputId": "08451774-10ec-4756-ee28-da0507041679"
      },
      "execution_count": null,
      "outputs": [
        {
          "output_type": "stream",
          "name": "stdout",
          "text": [
            "spam eggs\n",
            "doesn't\n",
            "doesn't\n",
            "\"Yes,\" he said.\n",
            "\"Yes,\" he said.\n",
            "\"Isn't,\" she said.\n"
          ]
        }
      ]
    },
    {
      "cell_type": "code",
      "source": [
        "hello = \"これは比較的長い文字列で、cと同じやり方で\\n\\\n",
        "複数行のテキストを含んでいる。\\n\\\n",
        "    行頭に入れたスペースが意味を持つので\\\n",
        "注意されたし。\"\n",
        "\n",
        "print(hello)"
      ],
      "metadata": {
        "colab": {
          "base_uri": "https://localhost:8080/"
        },
        "id": "QaOLEKFGUTmO",
        "outputId": "87293afb-d180-4b02-e36f-87ba30c41729"
      },
      "execution_count": null,
      "outputs": [
        {
          "output_type": "stream",
          "name": "stdout",
          "text": [
            "これは比較的長い文字列で、cと同じやり方で\n",
            "複数行のテキストを含んでいる。\n",
            "    行頭に入れたスペースが意味を持つので注意されたし。\n"
          ]
        }
      ]
    },
    {
      "cell_type": "code",
      "source": [
        "print(\"\"\"\n",
        "Usage: thingy [OPTIONS]\n",
        "  -h  Display this usage\n",
        "  -H hostname to connect to\n",
        "\"\"\")"
      ],
      "metadata": {
        "colab": {
          "base_uri": "https://localhost:8080/"
        },
        "id": "FjYM4HO1VAcP",
        "outputId": "f7ea4492-2dbb-4271-ecc1-c6d549622a4e"
      },
      "execution_count": null,
      "outputs": [
        {
          "output_type": "stream",
          "name": "stdout",
          "text": [
            "\n",
            "Usage: thingy [OPTIONS]\n",
            "  -h  Display this usage\n",
            "  -H hostname to connect to\n",
            "\n"
          ]
        }
      ]
    },
    {
      "cell_type": "code",
      "source": [
        "hello = r\"これは比較的長い文字列で、cと同じやり方で\\n\\\n",
        "複数行のテキストを含んでいる。\"\n",
        "\n",
        "print(hello)"
      ],
      "metadata": {
        "colab": {
          "base_uri": "https://localhost:8080/"
        },
        "id": "njUlByL_VonN",
        "outputId": "a88fd629-1390-42d7-ff93-dd9102d7738c"
      },
      "execution_count": null,
      "outputs": [
        {
          "output_type": "stream",
          "name": "stdout",
          "text": [
            "これは比較的長い文字列で、cと同じやり方で\\n\\\n",
            "複数行のテキストを含んでいる。\n"
          ]
        }
      ]
    },
    {
      "cell_type": "code",
      "source": [
        "word = 'help' + 'A'\n",
        "word"
      ],
      "metadata": {
        "colab": {
          "base_uri": "https://localhost:8080/",
          "height": 36
        },
        "id": "4QQ23XSAV65I",
        "outputId": "dc6b5d6f-775b-4baf-bfd8-895bb8c89242"
      },
      "execution_count": null,
      "outputs": [
        {
          "output_type": "execute_result",
          "data": {
            "text/plain": [
              "'helpA'"
            ],
            "application/vnd.google.colaboratory.intrinsic+json": {
              "type": "string"
            }
          },
          "metadata": {},
          "execution_count": 9
        }
      ]
    },
    {
      "cell_type": "code",
      "source": [
        "print('<' + word*5 + '>')"
      ],
      "metadata": {
        "colab": {
          "base_uri": "https://localhost:8080/"
        },
        "id": "UScW_g17WO-S",
        "outputId": "4e9bddc9-e966-4e85-e25d-c5c65529fd46"
      },
      "execution_count": null,
      "outputs": [
        {
          "output_type": "stream",
          "name": "stdout",
          "text": [
            "<helpAhelpAhelpAhelpAhelpA>\n"
          ]
        }
      ]
    },
    {
      "cell_type": "code",
      "source": [
        "#有効\n",
        "\n",
        "print(\"str\" \"ing\")\n",
        "print(\"srt\".strip() + \"ing\")"
      ],
      "metadata": {
        "colab": {
          "base_uri": "https://localhost:8080/"
        },
        "id": "ha2DynEWWeOL",
        "outputId": "923eac65-ed60-4dea-eb34-f1adbe92eb33"
      },
      "execution_count": null,
      "outputs": [
        {
          "output_type": "stream",
          "name": "stdout",
          "text": [
            "string\n",
            "srting\n"
          ]
        }
      ]
    },
    {
      "cell_type": "code",
      "source": [
        "#無効\n",
        "\n",
        "print(\"str\".stirp() \"ing\")"
      ],
      "metadata": {
        "colab": {
          "base_uri": "https://localhost:8080/",
          "height": 110
        },
        "id": "V_DwjI-EWrCG",
        "outputId": "04b03968-914c-4dca-9338-ee6d214dca8a"
      },
      "execution_count": null,
      "outputs": [
        {
          "output_type": "error",
          "ename": "SyntaxError",
          "evalue": "invalid syntax. Perhaps you forgot a comma? (<ipython-input-15-b0daf751091b>, line 1)",
          "traceback": [
            "\u001b[0;36m  File \u001b[0;32m\"<ipython-input-15-b0daf751091b>\"\u001b[0;36m, line \u001b[0;32m1\u001b[0m\n\u001b[0;31m    print(\"str\".stirp() \"ing\")\u001b[0m\n\u001b[0m          ^\u001b[0m\n\u001b[0;31mSyntaxError\u001b[0m\u001b[0;31m:\u001b[0m invalid syntax. Perhaps you forgot a comma?\n"
          ]
        }
      ]
    },
    {
      "cell_type": "code",
      "source": [
        "word[4]"
      ],
      "metadata": {
        "colab": {
          "base_uri": "https://localhost:8080/",
          "height": 36
        },
        "id": "O1A9KklxXYxH",
        "outputId": "8db8381f-b8f9-415e-dfaf-4f86500b93f4"
      },
      "execution_count": null,
      "outputs": [
        {
          "output_type": "execute_result",
          "data": {
            "text/plain": [
              "'A'"
            ],
            "application/vnd.google.colaboratory.intrinsic+json": {
              "type": "string"
            }
          },
          "metadata": {},
          "execution_count": 16
        }
      ]
    },
    {
      "cell_type": "code",
      "source": [
        "word[0:2]"
      ],
      "metadata": {
        "colab": {
          "base_uri": "https://localhost:8080/",
          "height": 36
        },
        "id": "LuhhsBbcXg62",
        "outputId": "0f8eaeac-e968-4431-e387-ddd62f3150c8"
      },
      "execution_count": null,
      "outputs": [
        {
          "output_type": "execute_result",
          "data": {
            "text/plain": [
              "'he'"
            ],
            "application/vnd.google.colaboratory.intrinsic+json": {
              "type": "string"
            }
          },
          "metadata": {},
          "execution_count": 17
        }
      ]
    },
    {
      "cell_type": "code",
      "source": [
        "s = \"supercalifragilisticexpialidocious\"\n",
        "len(s)"
      ],
      "metadata": {
        "colab": {
          "base_uri": "https://localhost:8080/"
        },
        "id": "b9GitPD7Xj_9",
        "outputId": "69937b1c-3b6b-4dcf-b099-938a9bf53637"
      },
      "execution_count": null,
      "outputs": [
        {
          "output_type": "execute_result",
          "data": {
            "text/plain": [
              "34"
            ]
          },
          "metadata": {},
          "execution_count": 20
        }
      ]
    },
    {
      "cell_type": "code",
      "source": [],
      "metadata": {
        "id": "LPgmcLuKY8lh"
      },
      "execution_count": null,
      "outputs": []
    }
  ]
}