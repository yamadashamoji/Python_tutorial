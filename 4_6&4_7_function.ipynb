{
  "nbformat": 4,
  "nbformat_minor": 0,
  "metadata": {
    "colab": {
      "provenance": [],
      "authorship_tag": "ABX9TyOYCxxiwvI9Hbgp/sooHEMD",
      "include_colab_link": true
    },
    "kernelspec": {
      "name": "python3",
      "display_name": "Python 3"
    },
    "language_info": {
      "name": "python"
    }
  },
  "cells": [
    {
      "cell_type": "markdown",
      "metadata": {
        "id": "view-in-github",
        "colab_type": "text"
      },
      "source": [
        "<a href=\"https://colab.research.google.com/github/yamadashamoji/Python_tutorial/blob/main/4_6%264_7_function.ipynb\" target=\"_parent\"><img src=\"https://colab.research.google.com/assets/colab-badge.svg\" alt=\"Open In Colab\"/></a>"
      ]
    },
    {
      "cell_type": "code",
      "execution_count": null,
      "metadata": {
        "id": "d4-tvrF4mZee"
      },
      "outputs": [],
      "source": [
        "#@title 関数の定義"
      ]
    },
    {
      "cell_type": "code",
      "source": [
        "def fib(n): #　フィボナッチ級数をnまで書き出す\n",
        "  \"\"\"nまでのフィボナッチ数列を表示する\"\"\"\n",
        "  a, b  = 0, 1\n",
        "  while a < n:\n",
        "    print(a, end=' ')\n",
        "    a, b = b, a+b\n",
        "  print()\n",
        "\n",
        "# ではこの関数を呼び出してみよう：\n",
        "fib(2000)"
      ],
      "metadata": {
        "colab": {
          "base_uri": "https://localhost:8080/"
        },
        "id": "s8zT-BLam813",
        "outputId": "5a8957ee-886b-4340-b1e2-bbfd8ce64bbb"
      },
      "execution_count": null,
      "outputs": [
        {
          "output_type": "stream",
          "name": "stdout",
          "text": [
            "0 1 1 2 3 5 8 13 21 34 55 89 144 233 377 610 987 1597 \n"
          ]
        }
      ]
    },
    {
      "cell_type": "code",
      "source": [
        "fib"
      ],
      "metadata": {
        "colab": {
          "base_uri": "https://localhost:8080/",
          "height": 103
        },
        "id": "79exRwaAoXOk",
        "outputId": "5077aacd-df7e-41f4-8375-98614c658763"
      },
      "execution_count": null,
      "outputs": [
        {
          "output_type": "execute_result",
          "data": {
            "text/plain": [
              "<function __main__.fib(n)>"
            ],
            "text/html": [
              "<div style=\"max-width:800px; border: 1px solid var(--colab-border-color);\"><style>\n",
              "      pre.function-repr-contents {\n",
              "        overflow-x: auto;\n",
              "        padding: 8px 12px;\n",
              "        max-height: 500px;\n",
              "      }\n",
              "\n",
              "      pre.function-repr-contents.function-repr-contents-collapsed {\n",
              "        cursor: pointer;\n",
              "        max-height: 100px;\n",
              "      }\n",
              "    </style>\n",
              "    <pre style=\"white-space: initial; background:\n",
              "         var(--colab-secondary-surface-color); padding: 8px 12px;\n",
              "         border-bottom: 1px solid var(--colab-border-color);\"><b>fib</b><br/>def fib(n)</pre><pre class=\"function-repr-contents function-repr-contents-collapsed\" style=\"\"><a class=\"filepath\" style=\"display:none\" href=\"#\">/content/&lt;ipython-input-1-b10bfc480228&gt;</a>nまでのフィボナッチ数列を表示する</pre></div>"
            ]
          },
          "metadata": {},
          "execution_count": 2
        }
      ]
    },
    {
      "cell_type": "code",
      "source": [
        "f = fib\n",
        "f(100)"
      ],
      "metadata": {
        "colab": {
          "base_uri": "https://localhost:8080/"
        },
        "id": "kkHNN_lWqLq4",
        "outputId": "b1b39b64-0482-4582-8a80-d73242d85e0e"
      },
      "execution_count": null,
      "outputs": [
        {
          "output_type": "stream",
          "name": "stdout",
          "text": [
            "0 1 1 2 3 5 8 13 21 34 55 89 \n"
          ]
        }
      ]
    },
    {
      "cell_type": "code",
      "source": [
        "print(fib(0))"
      ],
      "metadata": {
        "colab": {
          "base_uri": "https://localhost:8080/"
        },
        "id": "SfvZYzJMqUW-",
        "outputId": "acf93fda-c8c3-45e9-ca50-4a328b01674a"
      },
      "execution_count": null,
      "outputs": [
        {
          "output_type": "stream",
          "name": "stdout",
          "text": [
            "\n",
            "None\n"
          ]
        }
      ]
    },
    {
      "cell_type": "code",
      "source": [
        "def fib2(n): # nまでのフィボナッチ級数を書き出す\n",
        "  \"\"\"nまでのフィボナッチ数列から成るリストを返す\"\"\"\n",
        "  result = []\n",
        "  a, b = 0, 1\n",
        "  while a < n:\n",
        "    result.append(a) # 下記参照\n",
        "    a, b = b, a+b\n",
        "  return result\n",
        "\n",
        "f100 = fib2(100) # コールする\n",
        "f100"
      ],
      "metadata": {
        "colab": {
          "base_uri": "https://localhost:8080/"
        },
        "id": "ULtoS18Xqp2I",
        "outputId": "1758331f-9c46-4b96-80e0-e1b644acf9fe"
      },
      "execution_count": null,
      "outputs": [
        {
          "output_type": "execute_result",
          "data": {
            "text/plain": [
              "[0, 1, 1, 2, 3, 5, 8, 13, 21, 34, 55, 89]"
            ]
          },
          "metadata": {},
          "execution_count": 5
        }
      ]
    },
    {
      "cell_type": "code",
      "source": [
        "def ask_ok(prompt, retries=4, complaint='Yes or no,please!'):\n",
        "  while True:\n",
        "    ok = input(prompt)\n",
        "    if ok in ('y', 'ye', 'yes'):\n",
        "      return True\n",
        "    if ok in ('n', 'no', 'nop', 'nope'):\n",
        "      return False\n",
        "    retries = retries - 1\n",
        "    if retries < 0:\n",
        "      raise IOError # 回答拒否ユーザー\n",
        "    print(complaint)"
      ],
      "metadata": {
        "id": "phC1BK8PtFi2"
      },
      "execution_count": null,
      "outputs": []
    },
    {
      "cell_type": "code",
      "source": [
        "ask_ok('Do you really want to quit?')\n",
        "ask_ok('OK to overwrite the file?', 2)\n",
        "ask_ok('OK to overwrite the file?', 2, 'Come on, only yes or no!')\n",
        "\n",
        "i = 5\n",
        "def f(arg=i):\n",
        "  print(arg)\n",
        "\n",
        "i = 6\n",
        "f()"
      ],
      "metadata": {
        "colab": {
          "base_uri": "https://localhost:8080/"
        },
        "id": "LPOuLWpJyeN6",
        "outputId": "ba879eb5-778d-48fa-c103-0acc2ba42936"
      },
      "execution_count": null,
      "outputs": [
        {
          "output_type": "stream",
          "name": "stdout",
          "text": [
            "Do you really want to quit?n\n",
            "OK to overwrite the file?y\n",
            "OK to overwrite the file?y\n",
            "5\n"
          ]
        }
      ]
    },
    {
      "cell_type": "code",
      "source": [
        "def f(a, L=[]):\n",
        "  L.append(a)\n",
        "  return L\n",
        "\n",
        "print(f(1))\n",
        "print(f(2))\n",
        "print(f(3))"
      ],
      "metadata": {
        "colab": {
          "base_uri": "https://localhost:8080/"
        },
        "id": "4U-igsV6zfI5",
        "outputId": "45f916dc-5705-423a-ca52-b738e9c62522"
      },
      "execution_count": null,
      "outputs": [
        {
          "output_type": "stream",
          "name": "stdout",
          "text": [
            "[1]\n",
            "[1, 2]\n",
            "[1, 2, 3]\n"
          ]
        }
      ]
    },
    {
      "cell_type": "code",
      "source": [
        "def f(a, L=None):\n",
        "  if L is None:\n",
        "    L = []\n",
        "    L.append(a)\n",
        "    return L\n",
        "\n",
        "print(f(1))\n",
        "print(f(2))\n",
        "print(f(3))"
      ],
      "metadata": {
        "colab": {
          "base_uri": "https://localhost:8080/"
        },
        "id": "KWafvFm11t-j",
        "outputId": "9d86ac11-c92b-468c-ba1e-eb22114ea0df"
      },
      "execution_count": null,
      "outputs": [
        {
          "output_type": "stream",
          "name": "stdout",
          "text": [
            "[1]\n",
            "[2]\n",
            "[3]\n"
          ]
        }
      ]
    },
    {
      "cell_type": "code",
      "source": [
        "def parrot (voltage, state='a stiff', action='voom', type='Norwegian Blue'):\n",
        "  print(\"--This parrot wouldn't\", action,)\n",
        "  print(\"if you put\", voltage, \"volts through it.\")\n",
        "  print(\"-- Lovely plumage, the\", type)\n",
        "  print(\"-- It's\", state, \"!\")"
      ],
      "metadata": {
        "id": "EX64LFis3Ajr"
      },
      "execution_count": null,
      "outputs": []
    },
    {
      "cell_type": "code",
      "source": [
        "# parrot(1000)\n",
        "# parrot(action='VOOOOOM', voltage=1000000)\n",
        "# parrot('a million', 'bereft of life', 'jump')\n",
        "parrot('a thousand', state = 'pushing up the daisies')"
      ],
      "metadata": {
        "colab": {
          "base_uri": "https://localhost:8080/"
        },
        "id": "hVE6MB5r7S3P",
        "outputId": "2dd9c062-f400-48df-8f89-b23904fddc93"
      },
      "execution_count": null,
      "outputs": [
        {
          "output_type": "stream",
          "name": "stdout",
          "text": [
            "--This parrot wouldn't voom\n",
            "if you put a thousand volts through it.\n",
            "-- Lovely plumage, the Norwegian Blue\n",
            "-- It's pushing up the daisies !\n"
          ]
        }
      ]
    },
    {
      "cell_type": "code",
      "source": [
        "def cheeseshop(kind, *argments, **keywords):\n",
        "  print(\"--Do you have any\", kind, '?')\n",
        "  print(\"--I'm sorry, we're all out of\", kind)\n",
        "  for arg in argments: print(arg)\n",
        "  print('-'*40)\n",
        "  keys = sorted(keywords.keys())\n",
        "  for kw in keys: print(kw, ':', keywords[kw])\n"
      ],
      "metadata": {
        "id": "5wchouL29Awx"
      },
      "execution_count": null,
      "outputs": []
    },
    {
      "cell_type": "code",
      "source": [
        "cheeseshop(\"Limburger\", \"It's very runny, sir.\",\n",
        "           \"It's really very, VERY runny, sir.\",\n",
        "           shopkeeper=\"Michael Palin\",\n",
        "           client = \"John Cleese\",\n",
        "           sketch = \"Cheese Shop Sketch\")"
      ],
      "metadata": {
        "colab": {
          "base_uri": "https://localhost:8080/"
        },
        "id": "t4cd59xvB3c8",
        "outputId": "09a1c86a-905e-4fbb-9d4c-2c10055c3b43"
      },
      "execution_count": null,
      "outputs": [
        {
          "output_type": "stream",
          "name": "stdout",
          "text": [
            "--Do you have any Limburger ?\n",
            "--I'm sorry, we're all out of Limburger\n",
            "It's very runny, sir.\n",
            "It's really very, VERY runny, sir.\n",
            "----------------------------------------\n",
            "client : John Cleese\n",
            "shopkeeper : Michael Palin\n",
            "sketch : Cheese Shop Sketch\n"
          ]
        }
      ]
    },
    {
      "cell_type": "code",
      "source": [
        "def write_multiple_items(file, separator, *args):\n",
        "  file.write(separator.join(args))"
      ],
      "metadata": {
        "id": "ZO9cyjmNCtnV"
      },
      "execution_count": null,
      "outputs": []
    },
    {
      "cell_type": "code",
      "source": [
        "def concat(*args, sep=\"/\"):\n",
        "  return sep.join(args)"
      ],
      "metadata": {
        "id": "f1Lq1DF30P5z"
      },
      "execution_count": null,
      "outputs": []
    },
    {
      "cell_type": "code",
      "source": [
        "concat(\"earth\", \"mars\", \"venus\")"
      ],
      "metadata": {
        "colab": {
          "base_uri": "https://localhost:8080/",
          "height": 36
        },
        "id": "203yGYbQ0b5J",
        "outputId": "ba08c5dd-a3de-4a00-d098-07ffaa0e646c"
      },
      "execution_count": null,
      "outputs": [
        {
          "output_type": "execute_result",
          "data": {
            "text/plain": [
              "'earth/mars/venus'"
            ],
            "application/vnd.google.colaboratory.intrinsic+json": {
              "type": "string"
            }
          },
          "metadata": {},
          "execution_count": 13
        }
      ]
    },
    {
      "cell_type": "code",
      "source": [
        "concat(\"earth\", \"mars\", \"venus\", sep=\".\")"
      ],
      "metadata": {
        "colab": {
          "base_uri": "https://localhost:8080/",
          "height": 36
        },
        "id": "T5lXc_E200pE",
        "outputId": "8fdea32d-5d57-41ee-efe0-ace1f99ee360"
      },
      "execution_count": null,
      "outputs": [
        {
          "output_type": "execute_result",
          "data": {
            "text/plain": [
              "'earth.mars.venus'"
            ],
            "application/vnd.google.colaboratory.intrinsic+json": {
              "type": "string"
            }
          },
          "metadata": {},
          "execution_count": 14
        }
      ]
    },
    {
      "cell_type": "code",
      "source": [
        "list(range(3, 6)) # 個別の因数を使った普通のコール"
      ],
      "metadata": {
        "colab": {
          "base_uri": "https://localhost:8080/"
        },
        "id": "ujTa5dKZ04tM",
        "outputId": "da52b16c-2014-46ad-932f-7261c27b0c2d"
      },
      "execution_count": null,
      "outputs": [
        {
          "output_type": "execute_result",
          "data": {
            "text/plain": [
              "[3, 4, 5]"
            ]
          },
          "metadata": {},
          "execution_count": 15
        }
      ]
    },
    {
      "cell_type": "code",
      "source": [
        "args = [3, 6]     # リストからアンパックした因数でコール\n",
        "list(range(*args))"
      ],
      "metadata": {
        "colab": {
          "base_uri": "https://localhost:8080/"
        },
        "id": "nEeR3BlU8c9P",
        "outputId": "49f7dc03-64a6-4b50-fc62-4dcd02dd4b4d"
      },
      "execution_count": null,
      "outputs": [
        {
          "output_type": "execute_result",
          "data": {
            "text/plain": [
              "[3, 4, 5]"
            ]
          },
          "metadata": {},
          "execution_count": 16
        }
      ]
    },
    {
      "cell_type": "code",
      "source": [
        "def parrot (voltage, state='a stiff', action='voom'):\n",
        "  print(\"--This parrot wouldn't\", action,)\n",
        "  print(\"if you put\", voltage, \"volts through it.\")\n",
        "  print(\"E's\", state, \"!\")"
      ],
      "metadata": {
        "id": "uV05IDIB8juU"
      },
      "execution_count": null,
      "outputs": []
    },
    {
      "cell_type": "code",
      "source": [
        "d = {\"voltage\": \"four million\", \"state\": \"bleedin'demised\", \"action\": \"VOOM\"}\n",
        "parrot(**d)"
      ],
      "metadata": {
        "colab": {
          "base_uri": "https://localhost:8080/"
        },
        "id": "15L1M2509WIA",
        "outputId": "59dc07cd-ddb9-47ea-d75e-5c501f6ec0bc"
      },
      "execution_count": null,
      "outputs": [
        {
          "output_type": "stream",
          "name": "stdout",
          "text": [
            "--This parrot wouldn't VOOM\n",
            "if you put four million volts through it.\n",
            "E's bleedin'demised !\n"
          ]
        }
      ]
    },
    {
      "cell_type": "code",
      "source": [
        "def make_incrementor(n):\n",
        "  return lambda x: x + n\n",
        "\n",
        "f = make_incrementor(42)\n",
        "f(0)"
      ],
      "metadata": {
        "colab": {
          "base_uri": "https://localhost:8080/"
        },
        "id": "pzhd9fNJ9179",
        "outputId": "089af977-a519-4b7a-d4ea-247b1c20041e"
      },
      "execution_count": null,
      "outputs": [
        {
          "output_type": "execute_result",
          "data": {
            "text/plain": [
              "42"
            ]
          },
          "metadata": {},
          "execution_count": 20
        }
      ]
    },
    {
      "cell_type": "code",
      "source": [
        "f(1)"
      ],
      "metadata": {
        "colab": {
          "base_uri": "https://localhost:8080/"
        },
        "id": "qu9q1ZzG-tNA",
        "outputId": "057aafdd-0e47-4235-f050-6628bdd33665"
      },
      "execution_count": null,
      "outputs": [
        {
          "output_type": "execute_result",
          "data": {
            "text/plain": [
              "43"
            ]
          },
          "metadata": {},
          "execution_count": 21
        }
      ]
    },
    {
      "cell_type": "code",
      "source": [
        "def my_function():\n",
        "  \"\"\"Do notihing, but document it.\n",
        "\n",
        "  No, really, it doesn't do anything.\n",
        "  \"\"\"\n",
        "  pass"
      ],
      "metadata": {
        "id": "Dd8pfxrY-uRV"
      },
      "execution_count": null,
      "outputs": []
    },
    {
      "cell_type": "code",
      "source": [
        "print(my_function.__doc__)"
      ],
      "metadata": {
        "colab": {
          "base_uri": "https://localhost:8080/"
        },
        "id": "mhUFdGLo_b-i",
        "outputId": "8c5464e7-27e5-4874-8459-21bc4375ea14"
      },
      "execution_count": null,
      "outputs": [
        {
          "output_type": "stream",
          "name": "stdout",
          "text": [
            "Do notihing, but document it.\n",
            "\n",
            "  No, really, it doesn't do anything.\n",
            "  \n"
          ]
        }
      ]
    },
    {
      "cell_type": "code",
      "source": [],
      "metadata": {
        "id": "Xk8CQsdD_jLf"
      },
      "execution_count": null,
      "outputs": []
    }
  ]
}