{
  "nbformat": 4,
  "nbformat_minor": 0,
  "metadata": {
    "colab": {
      "provenance": [],
      "authorship_tag": "ABX9TyO7DMJxBbhGxNpOLGYNzQ5m",
      "include_colab_link": true
    },
    "kernelspec": {
      "name": "python3",
      "display_name": "Python 3"
    },
    "language_info": {
      "name": "python"
    }
  },
  "cells": [
    {
      "cell_type": "markdown",
      "metadata": {
        "id": "view-in-github",
        "colab_type": "text"
      },
      "source": [
        "<a href=\"https://colab.research.google.com/github/yamadashamoji/Python_tutorial/blob/main/9_2_1_scope_ipynb.ipynb\" target=\"_parent\"><img src=\"https://colab.research.google.com/assets/colab-badge.svg\" alt=\"Open In Colab\"/></a>"
      ]
    },
    {
      "cell_type": "code",
      "execution_count": null,
      "metadata": {
        "colab": {
          "base_uri": "https://localhost:8080/"
        },
        "id": "V25gk7VxeSYN",
        "outputId": "bc2b6e09-7a17-4a94-c67a-be1eb204891a"
      },
      "outputs": [
        {
          "output_type": "stream",
          "name": "stdout",
          "text": [
            "After local assignment: test spam\n",
            "After nonlocal assignment: nonlocal spam\n",
            "After global assignment: nonlocal spam\n",
            "In global scope: global spam\n"
          ]
        }
      ],
      "source": [
        "def scope_test():\n",
        "  def do_local():\n",
        "    spam = \"local spam\"\n",
        "  def do_nonlocal():\n",
        "    nonlocal spam\n",
        "    spam = \"nonlocal spam\"\n",
        "  def do_global():\n",
        "    global spam\n",
        "    spam = \"global spam\"\n",
        "\n",
        "  spam = \"test spam\"\n",
        "  do_local()\n",
        "  print(\"After local assignment:\", spam)\n",
        "  do_nonlocal()\n",
        "  print(\"After nonlocal assignment:\", spam)\n",
        "  do_global()\n",
        "  print(\"After global assignment:\", spam)\n",
        "\n",
        "scope_test()\n",
        "print(\"In global scope:\", spam)"
      ]
    },
    {
      "cell_type": "code",
      "source": [
        "\n",
        "class MyClass:\n",
        "  \"\"\"A simple example class\"\"\"\n",
        "  i = 12345\n",
        "  def f(self):\n",
        "    return 'hello world'"
      ],
      "metadata": {
        "id": "5sFHJflmfiNL"
      },
      "execution_count": null,
      "outputs": []
    },
    {
      "cell_type": "code",
      "source": [
        "x = MyClass()"
      ],
      "metadata": {
        "id": "H2pHk5J4gSIN"
      },
      "execution_count": null,
      "outputs": []
    },
    {
      "cell_type": "code",
      "source": [
        "def __init__(self):\n",
        "  self.data = []"
      ],
      "metadata": {
        "id": "ieALDWAAgV_v"
      },
      "execution_count": null,
      "outputs": []
    },
    {
      "cell_type": "code",
      "source": [
        "x = MyClass()"
      ],
      "metadata": {
        "id": "cbKKtkwhggH9"
      },
      "execution_count": null,
      "outputs": []
    },
    {
      "cell_type": "code",
      "source": [
        "class Complex:\n",
        "  def __init__(self, realpart, imagpart):\n",
        "    self.r = realpart\n",
        "    self.i = imagpart\n",
        "\n",
        "x = Complex(3.0, -4.5)\n",
        "x.r, x.i"
      ],
      "metadata": {
        "colab": {
          "base_uri": "https://localhost:8080/"
        },
        "id": "-O_uRgSRgjGt",
        "outputId": "971018b5-085b-4650-eac5-e16ce7ae7cc3"
      },
      "execution_count": null,
      "outputs": [
        {
          "output_type": "execute_result",
          "data": {
            "text/plain": [
              "(3.0, -4.5)"
            ]
          },
          "metadata": {},
          "execution_count": 6
        }
      ]
    },
    {
      "cell_type": "code",
      "source": [
        "x.counter = 1\n",
        "while x.counter <= 10:\n",
        "  x.counter = x.counter * 2\n",
        "print(x.counter)\n",
        "del x.counter"
      ],
      "metadata": {
        "colab": {
          "base_uri": "https://localhost:8080/"
        },
        "id": "yi6-A-WGhIDd",
        "outputId": "37ef2788-5d4b-4055-ad38-12d83f2799ae"
      },
      "execution_count": null,
      "outputs": [
        {
          "output_type": "stream",
          "name": "stdout",
          "text": [
            "16\n"
          ]
        }
      ]
    },
    {
      "cell_type": "code",
      "source": [
        "xf = x.f\n",
        "while True:\n",
        "  print(xf())"
      ],
      "metadata": {
        "colab": {
          "base_uri": "https://localhost:8080/",
          "height": 182
        },
        "id": "mmFf7I6nhgpp",
        "outputId": "f03d0732-7f41-4cca-bd8e-e6b7fe202eba"
      },
      "execution_count": null,
      "outputs": [
        {
          "output_type": "error",
          "ename": "AttributeError",
          "evalue": "'Complex' object has no attribute 'f'",
          "traceback": [
            "\u001b[0;31m---------------------------------------------------------------------------\u001b[0m",
            "\u001b[0;31mAttributeError\u001b[0m                            Traceback (most recent call last)",
            "\u001b[0;32m<ipython-input-10-a084b2d1b167>\u001b[0m in \u001b[0;36m<cell line: 1>\u001b[0;34m()\u001b[0m\n\u001b[0;32m----> 1\u001b[0;31m \u001b[0mxf\u001b[0m \u001b[0;34m=\u001b[0m \u001b[0mx\u001b[0m\u001b[0;34m.\u001b[0m\u001b[0mf\u001b[0m\u001b[0;34m\u001b[0m\u001b[0;34m\u001b[0m\u001b[0m\n\u001b[0m\u001b[1;32m      2\u001b[0m \u001b[0;32mwhile\u001b[0m \u001b[0;32mTrue\u001b[0m\u001b[0;34m:\u001b[0m\u001b[0;34m\u001b[0m\u001b[0;34m\u001b[0m\u001b[0m\n\u001b[1;32m      3\u001b[0m   \u001b[0mprint\u001b[0m\u001b[0;34m(\u001b[0m\u001b[0mxf\u001b[0m\u001b[0;34m(\u001b[0m\u001b[0;34m)\u001b[0m\u001b[0;34m)\u001b[0m\u001b[0;34m\u001b[0m\u001b[0;34m\u001b[0m\u001b[0m\n",
            "\u001b[0;31mAttributeError\u001b[0m: 'Complex' object has no attribute 'f'"
          ]
        }
      ]
    },
    {
      "cell_type": "code",
      "source": [
        "#　クラス外部で定義される関数\n",
        "def f1(self, x, y):\n",
        "  return min(x, x+y)\n",
        "\n",
        "class C:\n",
        "  f = f1\n",
        "  def g(self):\n",
        "    return 'hello world'\n",
        "  h = g"
      ],
      "metadata": {
        "id": "62fvE6LIh8dm"
      },
      "execution_count": null,
      "outputs": []
    },
    {
      "cell_type": "code",
      "source": [
        "class Bag:\n",
        "  def __init__(self):\n",
        "    self.data = []\n",
        "  def add(self, x):\n",
        "    self.data.append(x)\n",
        "  def addtwice(self, x):\n",
        "    self.add(x)\n",
        "    self.add(x)"
      ],
      "metadata": {
        "id": "MKDgDB8tiss1"
      },
      "execution_count": null,
      "outputs": []
    },
    {
      "cell_type": "code",
      "source": [
        "class base():\n",
        "  def a(self):\n",
        "    print('私の名前はbase.aです。base.bをコールします')\n",
        "    self.b()\n",
        "  def b(self):\n",
        "    print('私の名前はbase.bです。der.bでオーバーライドされます')\n",
        "\n",
        "class der(base):\n",
        "  def b(self):\n",
        "    print('ウヒョ！　オイラはder.bだよ。')\n",
        "\n"
      ],
      "metadata": {
        "id": "3P4Fg9fBjfrS"
      },
      "execution_count": null,
      "outputs": []
    },
    {
      "cell_type": "code",
      "source": [
        "b=base()\n",
        "d=der()\n",
        "b.a()"
      ],
      "metadata": {
        "colab": {
          "base_uri": "https://localhost:8080/"
        },
        "id": "qe-f8HwckaK_",
        "outputId": "ccff6ba5-af06-4b6f-b1fa-adf89ba86ed7"
      },
      "execution_count": null,
      "outputs": [
        {
          "output_type": "stream",
          "name": "stdout",
          "text": [
            "私の名前はbase.aです。base.bをコールします\n",
            "私の名前はbase.bです。der.bでオーバーライドされます\n"
          ]
        }
      ]
    },
    {
      "cell_type": "code",
      "source": [
        "d.a()"
      ],
      "metadata": {
        "id": "qBrqULu8kdgc",
        "outputId": "99ab68c0-8013-4872-91a6-cca5960975e3",
        "colab": {
          "base_uri": "https://localhost:8080/"
        }
      },
      "execution_count": null,
      "outputs": [
        {
          "output_type": "stream",
          "name": "stdout",
          "text": [
            "私の名前はbase.aです。base.bをコールします\n",
            "ウヒョ！　オイラはder.bだよ。\n"
          ]
        }
      ]
    },
    {
      "cell_type": "code",
      "source": [],
      "metadata": {
        "id": "IXivZ9h1kgry"
      },
      "execution_count": null,
      "outputs": []
    }
  ]
}